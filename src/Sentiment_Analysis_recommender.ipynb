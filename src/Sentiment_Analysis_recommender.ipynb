{
 "cells": [
  {
   "cell_type": "markdown",
   "metadata": {},
   "source": [
    "# Enhancing Recommender System using Machine Learning Sentiment Analysis Based on E-Commerce"
   ]
  },
  {
   "cell_type": "markdown",
   "metadata": {},
   "source": [
    "## Data Loading"
   ]
  },
  {
   "cell_type": "code",
   "execution_count": 1,
   "metadata": {},
   "outputs": [
    {
     "name": "stderr",
     "output_type": "stream",
     "text": [
      "C:\\Users\\User\\AppData\\Local\\Temp\\ipykernel_21928\\3501975049.py:23: DeprecationWarning: `import kerastuner` is deprecated, please use `import keras_tuner`.\n",
      "  import kerastuner as kt\n"
     ]
    }
   ],
   "source": [
    "import pandas as pd \n",
    "import numpy as np \n",
    "import re\n",
    "from string import punctuation\n",
    "import nltk \n",
    "from nltk.corpus import stopwords\n",
    "from nltk.stem import WordNetLemmatizer \n",
    "from collections import Counter\n",
    "from matplotlib import pyplot as plt\n",
    "import seaborn as sns\n",
    "from imblearn import over_sampling\n",
    "from sklearn.linear_model import LogisticRegression\n",
    "from sklearn.feature_extraction.text import TfidfVectorizer\n",
    "from sklearn.metrics import classification_report\n",
    "from sklearn.model_selection import GridSearchCV\n",
    "from sklearn.ensemble import RandomForestClassifier\n",
    "import pickle\n",
    "import os\n",
    "from tensorflow import keras\n",
    "from tensorflow.keras.models import Sequential\n",
    "from tensorflow.keras.layers import Embedding, Conv1D, GlobalMaxPooling1D, Dense,LSTM\n",
    "from tensorflow.keras.callbacks import EarlyStopping\n",
    "import kerastuner as kt\n",
    "import numpy as np\n",
    "import tensorflow as tf\n",
    "from tensorflow.keras.metrics import BinaryAccuracy\n",
    "from tensorflow.keras.callbacks import EarlyStopping\n",
    "from tensorflow.keras.optimizers import Adam\n",
    "from tensorflow.keras.preprocessing.text import Tokenizer \n",
    "from tensorflow.keras.preprocessing.sequence import pad_sequences\n",
    "\n",
    "from kerastuner.tuners import RandomSearch\n",
    "from tensorflow.keras.models import load_model\n",
    "from sklearn.metrics import precision_score, recall_score , f1_score, accuracy_score,roc_auc_score"
   ]
  },
  {
   "cell_type": "code",
   "execution_count": 2,
   "metadata": {},
   "outputs": [
    {
     "data": {
      "text/html": [
       "<div>\n",
       "<style scoped>\n",
       "    .dataframe tbody tr th:only-of-type {\n",
       "        vertical-align: middle;\n",
       "    }\n",
       "\n",
       "    .dataframe tbody tr th {\n",
       "        vertical-align: top;\n",
       "    }\n",
       "\n",
       "    .dataframe thead th {\n",
       "        text-align: right;\n",
       "    }\n",
       "</style>\n",
       "<table border=\"1\" class=\"dataframe\">\n",
       "  <thead>\n",
       "    <tr style=\"text-align: right;\">\n",
       "      <th></th>\n",
       "      <th>reviewerID</th>\n",
       "      <th>asin</th>\n",
       "      <th>reviewerName</th>\n",
       "      <th>helpful</th>\n",
       "      <th>reviewText</th>\n",
       "      <th>overall</th>\n",
       "      <th>summary</th>\n",
       "      <th>unixReviewTime</th>\n",
       "      <th>reviewTime</th>\n",
       "    </tr>\n",
       "  </thead>\n",
       "  <tbody>\n",
       "    <tr>\n",
       "      <th>0</th>\n",
       "      <td>A30TL5EWN6DFXT</td>\n",
       "      <td>120401325X</td>\n",
       "      <td>christina</td>\n",
       "      <td>[0, 0]</td>\n",
       "      <td>They look good and stick good! I just don't li...</td>\n",
       "      <td>4</td>\n",
       "      <td>Looks Good</td>\n",
       "      <td>1400630400</td>\n",
       "      <td>05 21, 2014</td>\n",
       "    </tr>\n",
       "  </tbody>\n",
       "</table>\n",
       "</div>"
      ],
      "text/plain": [
       "       reviewerID        asin reviewerName helpful  \\\n",
       "0  A30TL5EWN6DFXT  120401325X    christina  [0, 0]   \n",
       "\n",
       "                                          reviewText  overall     summary  \\\n",
       "0  They look good and stick good! I just don't li...        4  Looks Good   \n",
       "\n",
       "   unixReviewTime   reviewTime  \n",
       "0      1400630400  05 21, 2014  "
      ]
     },
     "execution_count": 2,
     "metadata": {},
     "output_type": "execute_result"
    }
   ],
   "source": [
    "df = pd.read_json('C:/Users/User/Documents/workspace/com.mcast/GAN-Recommender-System/data/Cell_Phones_and_Accessories_5.json' , lines = True)\n",
    "df.head(1)"
   ]
  },
  {
   "cell_type": "markdown",
   "metadata": {},
   "source": [
    "## Data Exploration"
   ]
  },
  {
   "cell_type": "code",
   "execution_count": 27,
   "metadata": {},
   "outputs": [
    {
     "name": "stdout",
     "output_type": "stream",
     "text": [
      "<class 'pandas.core.frame.DataFrame'>\n",
      "RangeIndex: 194439 entries, 0 to 194438\n",
      "Data columns (total 9 columns):\n",
      " #   Column          Non-Null Count   Dtype \n",
      "---  ------          --------------   ----- \n",
      " 0   reviewerID      194439 non-null  object\n",
      " 1   asin            194439 non-null  object\n",
      " 2   reviewerName    190920 non-null  object\n",
      " 3   helpful         194439 non-null  object\n",
      " 4   reviewText      194439 non-null  object\n",
      " 5   overall         194439 non-null  int64 \n",
      " 6   summary         194439 non-null  object\n",
      " 7   unixReviewTime  194439 non-null  int64 \n",
      " 8   reviewTime      194439 non-null  object\n",
      "dtypes: int64(2), object(7)\n",
      "memory usage: 13.4+ MB\n"
     ]
    }
   ],
   "source": [
    "df.info()"
   ]
  },
  {
   "cell_type": "code",
   "execution_count": 28,
   "metadata": {},
   "outputs": [
    {
     "data": {
      "text/plain": [
       "count    194439.000000\n",
       "mean          4.129912\n",
       "std           1.222499\n",
       "min           1.000000\n",
       "25%           4.000000\n",
       "50%           5.000000\n",
       "75%           5.000000\n",
       "max           5.000000\n",
       "Name: overall, dtype: float64"
      ]
     },
     "execution_count": 28,
     "metadata": {},
     "output_type": "execute_result"
    }
   ],
   "source": [
    "df['overall'].describe()"
   ]
  },
  {
   "cell_type": "code",
   "execution_count": 29,
   "metadata": {},
   "outputs": [
    {
     "data": {
      "text/plain": [
       "(194439, 9)"
      ]
     },
     "execution_count": 29,
     "metadata": {},
     "output_type": "execute_result"
    }
   ],
   "source": [
    "df.shape"
   ]
  },
  {
   "cell_type": "code",
   "execution_count": 30,
   "metadata": {},
   "outputs": [
    {
     "data": {
      "text/plain": [
       "reviewerID           0\n",
       "asin                 0\n",
       "reviewerName      3519\n",
       "helpful              0\n",
       "reviewText           0\n",
       "overall              0\n",
       "summary              0\n",
       "unixReviewTime       0\n",
       "reviewTime           0\n",
       "dtype: int64"
      ]
     },
     "execution_count": 30,
     "metadata": {},
     "output_type": "execute_result"
    }
   ],
   "source": [
    "df.isnull().sum()"
   ]
  },
  {
   "cell_type": "code",
   "execution_count": 31,
   "metadata": {},
   "outputs": [
    {
     "data": {
      "text/plain": [
       "0"
      ]
     },
     "execution_count": 31,
     "metadata": {},
     "output_type": "execute_result"
    }
   ],
   "source": [
    "for column in df.columns:\n",
    "    if df[column].apply(lambda x: isinstance(x, list)).any():\n",
    "        df[column] = df[column].apply(lambda x: tuple(x) if isinstance(x, list) else x)\n",
    "\n",
    "df.duplicated().sum()"
   ]
  },
  {
   "cell_type": "markdown",
   "metadata": {},
   "source": [
    "## Data Cleaning & Visualisation"
   ]
  },
  {
   "cell_type": "code",
   "execution_count": 3,
   "metadata": {},
   "outputs": [],
   "source": [
    "df = df.dropna()"
   ]
  },
  {
   "cell_type": "code",
   "execution_count": null,
   "metadata": {},
   "outputs": [],
   "source": []
  },
  {
   "cell_type": "code",
   "execution_count": 33,
   "metadata": {},
   "outputs": [],
   "source": [
    "def MostWordsUsed(txt , n_words) : \n",
    "    all_text = ''.join(df[txt].values) \n",
    "    all_text = re.sub(r'\\d+', '', all_text) # numbers\n",
    "    all_text = re.sub(r'[^\\w\\s]', '', all_text) # special characters\n",
    "    \n",
    "    words = all_text.split() \n",
    "    punc = list(punctuation)\n",
    "    words = [w for w in words if w not in punc] \n",
    "\n",
    "    stop_words = set(stopwords.words('english'))\n",
    "    words = [word.lower() for word in words if not word in stop_words]\n",
    "    word_counts = Counter(words)\n",
    "    top_words = word_counts.most_common(n_words)\n",
    "    return top_words"
   ]
  },
  {
   "cell_type": "code",
   "execution_count": 4,
   "metadata": {},
   "outputs": [],
   "source": [
    "df['review_len'] = [len(text.split()) for text in df.reviewText]"
   ]
  },
  {
   "cell_type": "code",
   "execution_count": 35,
   "metadata": {},
   "outputs": [
    {
     "data": {
      "image/png": "[encoded data removed]",
      "text/plain": [
       "<Figure size 1000x600 with 1 Axes>"
      ]
     },
     "metadata": {},
     "output_type": "display_data"
    },
    {
     "name": "stdout",
     "output_type": "stream",
     "text": [
      "count    190920.000000\n",
      "mean         91.976886\n",
      "std         135.601597\n",
      "min           0.000000\n",
      "25%          28.000000\n",
      "50%          48.000000\n",
      "75%         101.000000\n",
      "max        5263.000000\n",
      "Name: review_len, dtype: float64\n"
     ]
    }
   ],
   "source": [
    "plt.figure(figsize=(10, 6))\n",
    "df['review_len'].hist(bins=10)\n",
    "plt.title('Distribution of Review Lengths')\n",
    "plt.xlabel('Review Length (words)')\n",
    "plt.ylabel('Frequency')\n",
    "plt.show()\n",
    "\n",
    "# Display descriptive statistics for review lengths\n",
    "print(df['review_len'].describe())"
   ]
  },
  {
   "cell_type": "code",
   "execution_count": 5,
   "metadata": {},
   "outputs": [],
   "source": [
    "df = df[~(df['review_len'] < 20) & ~(df['review_len'] > 100)]"
   ]
  },
  {
   "cell_type": "code",
   "execution_count": 37,
   "metadata": {},
   "outputs": [
    {
     "data": {
      "image/png": "[encoded data removed]",
      "text/plain": [
       "<Figure size 1600x500 with 1 Axes>"
      ]
     },
     "metadata": {},
     "output_type": "display_data"
    }
   ],
   "source": [
    "top_words = MostWordsUsed('reviewText' , 40)\n",
    "\n",
    "xaxis = [word[0] for word in top_words]\n",
    "yaxis = [word[1] for word in top_words]\n",
    "\n",
    "plt.figure(figsize=(16,5))\n",
    "plt.bar(xaxis , yaxis)\n",
    "plt.xlabel('Word')\n",
    "plt.ylabel('Frequency')\n",
    "plt.title('Most Commonly Used Words', fontsize=25)\n",
    "plt.xticks(rotation=45)\n",
    "plt.subplots_adjust(bottom=0.15)\n",
    "plt.show()"
   ]
  },
  {
   "cell_type": "code",
   "execution_count": 38,
   "metadata": {},
   "outputs": [
    {
     "name": "stderr",
     "output_type": "stream",
     "text": [
      "C:\\Users\\User\\AppData\\Local\\Temp\\ipykernel_9376\\3373974165.py:2: FutureWarning: \n",
      "\n",
      "Passing `palette` without assigning `hue` is deprecated and will be removed in v0.14.0. Assign the `x` variable to `hue` and set `legend=False` for the same effect.\n",
      "\n",
      "  sns.countplot(x='overall', data=df, palette='viridis')\n"
     ]
    },
    {
     "data": {
      "image/png": "[encoded data removed]",
      "text/plain": [
       "<Figure size 800x600 with 1 Axes>"
      ]
     },
     "metadata": {},
     "output_type": "display_data"
    }
   ],
   "source": [
    "plt.figure(figsize=(8, 6))\n",
    "sns.countplot(x='overall', data=df, palette='viridis')\n",
    "plt.title('Count of Ratings')\n",
    "plt.xlabel('Rating')\n",
    "plt.ylabel('Count')\n",
    "plt.show()"
   ]
  },
  {
   "cell_type": "code",
   "execution_count": 6,
   "metadata": {},
   "outputs": [],
   "source": [
    "# For Sentiment Purposes we have decided to remove the 3 overall, since we need to put the overall as sentiments.\n",
    "# 1,2 as 0 sentiment whereas 4,5 as 1 sentiment\n",
    "df = df[df['overall'] != 3]"
   ]
  },
  {
   "cell_type": "code",
   "execution_count": 7,
   "metadata": {},
   "outputs": [],
   "source": [
    "# Data Prepartion for the Sentiment Models\n",
    "def DataPrep(text) : \n",
    "    text = text.lower()\n",
    "    text = re.sub(r'\\d+', '', text) # numbers\n",
    "    text = re.sub(r'[^\\w\\s]', '', text) # special characters\n",
    "    \n",
    "    tokens = nltk.word_tokenize(text) \n",
    "    punc = list(punctuation)\n",
    "    words = [word for word in tokens if word not in punc]\n",
    "    stop_words = set(stopwords.words('english'))\n",
    "    lemma = WordNetLemmatizer()\n",
    "    words = [word.lower() for word in words if not word in stop_words]\n",
    "    words = [lemma.lemmatize(word) for word in words]\n",
    "    text = ' '.join(words)\n",
    "    return text\n",
    "\n",
    "df['reviewText'] = df['reviewText'].apply(DataPrep)"
   ]
  },
  {
   "cell_type": "code",
   "execution_count": 8,
   "metadata": {},
   "outputs": [],
   "source": [
    "def rating_to_sentiment(rating):\n",
    "    if rating > 3:\n",
    "        return 1\n",
    "    elif rating < 3:\n",
    "        return 0\n",
    "    \n",
    "# Apply the function to your DataFrame\n",
    "df['sentiment'] = df['overall'].apply(rating_to_sentiment)"
   ]
  },
  {
   "cell_type": "code",
   "execution_count": 43,
   "metadata": {},
   "outputs": [
    {
     "name": "stderr",
     "output_type": "stream",
     "text": [
      "C:\\Users\\User\\AppData\\Local\\Temp\\ipykernel_9376\\802467065.py:12: FutureWarning: \n",
      "\n",
      "Passing `palette` without assigning `hue` is deprecated and will be removed in v0.14.0. Assign the `x` variable to `hue` and set `legend=False` for the same effect.\n",
      "\n",
      "  sns.countplot(x=df['sentiment'], ax=axes[1], palette=color)\n",
      "C:\\Users\\User\\AppData\\Local\\Temp\\ipykernel_9376\\802467065.py:12: UserWarning: The palette list has more values (10) than needed (2), which may not be intended.\n",
      "  sns.countplot(x=df['sentiment'], ax=axes[1], palette=color)\n"
     ]
    },
    {
     "data": {
      "text/plain": [
       "Text(0, 0.5, 'Count')"
      ]
     },
     "execution_count": 43,
     "metadata": {},
     "output_type": "execute_result"
    },
    {
     "data": {
      "image/png": "[encoded data removed]",
      "text/plain": [
       "<Figure size 1000x500 with 2 Axes>"
      ]
     },
     "metadata": {},
     "output_type": "display_data"
    }
   ],
   "source": [
    "label_count = df['sentiment'].value_counts()\n",
    "\n",
    "fig, axes = plt.subplots(nrows=1, ncols=2, figsize=(10, 5))\n",
    "sns.set_theme(style='darkgrid', palette='pastel')\n",
    "\n",
    "color = sns.color_palette(palette='pastel')\n",
    "explode = [0.02] * len(label_count)\n",
    "\n",
    "axes[0].pie(label_count.values, labels=label_count.index, autopct='%1.1f%%', colors=color, explode=explode)\n",
    "axes[0].set_title('Percentage Label')\n",
    "\n",
    "sns.countplot(x=df['sentiment'], ax=axes[1], palette=color)\n",
    "axes[1].set_title('Count Label')\n",
    "axes[1].set_xlabel('Label')\n",
    "axes[1].set_ylabel('Count')"
   ]
  },
  {
   "cell_type": "markdown",
   "metadata": {},
   "source": [
    "Here we can see that there is a data inbalance, which will affect the training of the models. Hence, we need to use over_sampling so that this does not affect the training"
   ]
  },
  {
   "cell_type": "code",
   "execution_count": 50,
   "metadata": {},
   "outputs": [
    {
     "data": {
      "text/plain": [
       "sentiment\n",
       "1    106459\n",
       "0     17848\n",
       "Name: count, dtype: int64"
      ]
     },
     "execution_count": 50,
     "metadata": {},
     "output_type": "execute_result"
    }
   ],
   "source": [
    "label_count = df['sentiment'].value_counts()\n",
    "label_count"
   ]
  },
  {
   "cell_type": "markdown",
   "metadata": {},
   "source": [
    "## Training"
   ]
  },
  {
   "cell_type": "code",
   "execution_count": 9,
   "metadata": {},
   "outputs": [
    {
     "name": "stdout",
     "output_type": "stream",
     "text": [
      "Checking distribution of +ve and -ve review sentiment: \n",
      "sentiment\n",
      "1    0.85642\n",
      "0    0.14358\n",
      "Name: proportion, dtype: float64\n",
      "Checking distribution of +ve and -ve review sentiment after oversampling: \n",
      "sentiment\n",
      "1    0.5\n",
      "0    0.5\n",
      "Name: proportion, dtype: float64\n"
     ]
    }
   ],
   "source": [
    "from sklearn.model_selection import train_test_split\n",
    "\n",
    "x=df['reviewText']\n",
    "y=df['sentiment']\n",
    "print(\"Checking distribution of +ve and -ve review sentiment: \\n{}\".format(y.value_counts(normalize=True)))\n",
    "X_train, X_test, y_train, y_test = train_test_split(x, y, test_size=0.3, random_state=42)\n",
    "ros = over_sampling.RandomOverSampler(random_state=42)\n",
    "X_train, y_train = ros.fit_resample(pd.DataFrame(X_train), pd.Series(y_train))\n",
    "print(\"Checking distribution of +ve and -ve review sentiment after oversampling: \\n{}\".format(y_train.value_counts(normalize=True)))\n",
    "X_train = X_train['reviewText'].tolist()\n"
   ]
  },
  {
   "cell_type": "markdown",
   "metadata": {},
   "source": [
    "### Training Sentiment Analysis Models"
   ]
  },
  {
   "cell_type": "markdown",
   "metadata": {},
   "source": [
    " Data was prepared for the sentiment models, using TfidfVectrizer for the models."
   ]
  },
  {
   "cell_type": "code",
   "execution_count": 10,
   "metadata": {},
   "outputs": [],
   "source": [
    "directory = './model/'\n",
    "if not os.path.exists(directory):\n",
    "    os.makedirs(directory)"
   ]
  },
  {
   "cell_type": "code",
   "execution_count": 11,
   "metadata": {},
   "outputs": [
    {
     "name": "stdout",
     "output_type": "stream",
     "text": [
      "No. of feature words:  47613\n"
     ]
    }
   ],
   "source": [
    "word_vectorizer = TfidfVectorizer()\n",
    "word_vectorizer.fit(X_train)\n",
    "print(\"No. of feature words: \",len(word_vectorizer.get_feature_names_out()))\n",
    "\n",
    "X_train_transformed = word_vectorizer.transform(X_train)\n",
    "X_test_transformed = word_vectorizer.transform(X_test.tolist())\n",
    "\n",
    "# Save the TfidfVectorizer using pickle\n",
    "with open(os.path.join(directory, 'word_vectorizer.pkl'), 'wb') as file:\n",
    "    pickle.dump(word_vectorizer, file)"
   ]
  },
  {
   "cell_type": "code",
   "execution_count": 58,
   "metadata": {},
   "outputs": [],
   "source": [
    "# Evaluating the models\n",
    "def evaluate_model(y_pred,y_actual):\n",
    "    print(classification_report(y_true = y_actual, y_pred = y_pred))"
   ]
  },
  {
   "cell_type": "markdown",
   "metadata": {},
   "source": [
    "Using GridSearch a hyperparameter tool to find the best fit for the models"
   ]
  },
  {
   "cell_type": "code",
   "execution_count": 59,
   "metadata": {},
   "outputs": [
    {
     "name": "stdout",
     "output_type": "stream",
     "text": [
      "Fitting 5 folds for each of 36 candidates, totalling 180 fits\n",
      "Best parameters found: {'C': 100, 'max_iter': 100, 'solver': 'saga'}\n",
      "Evaluation on Train dataset:\n",
      "              precision    recall  f1-score   support\n",
      "\n",
      "           0       0.96      0.98      0.97     74498\n",
      "           1       0.97      0.96      0.97     74498\n",
      "\n",
      "    accuracy                           0.97    148996\n",
      "   macro avg       0.97      0.97      0.97    148996\n",
      "weighted avg       0.97      0.97      0.97    148996\n",
      "\n",
      "Evaluation on Test dataset:\n",
      "              precision    recall  f1-score   support\n",
      "\n",
      "           0       0.58      0.75      0.65      5332\n",
      "           1       0.96      0.91      0.93     31961\n",
      "\n",
      "    accuracy                           0.89     37293\n",
      "   macro avg       0.77      0.83      0.79     37293\n",
      "weighted avg       0.90      0.89      0.89     37293\n",
      "\n"
     ]
    },
    {
     "name": "stderr",
     "output_type": "stream",
     "text": [
      "c:\\Users\\User\\anaconda3\\envs\\Naydel-Dissertation\\lib\\site-packages\\sklearn\\linear_model\\_sag.py:350: ConvergenceWarning: The max_iter was reached which means the coef_ did not converge\n",
      "  warnings.warn(\n"
     ]
    }
   ],
   "source": [
    "#Logistic Regression\n",
    "param_grid = {\n",
    "    'C': [0.001, 0.01, 0.1, 1, 10, 100],\n",
    "    'solver': ['liblinear', 'saga'],\n",
    "    'max_iter': [100, 200, 300]\n",
    "}\n",
    "\n",
    "grid_search = GridSearchCV(LogisticRegression(random_state=42), param_grid, cv=5, verbose=2, n_jobs=-1)\n",
    "grid_search.fit(X_train_transformed, y_train)\n",
    "best_model_logistic = grid_search.best_estimator_\n",
    "print(\"Best parameters found:\", grid_search.best_params_)\n",
    "\n",
    "y_pred_train = best_model_logistic.predict(X_train_transformed)\n",
    "y_pred_test = best_model_logistic.predict(X_test_transformed)\n",
    "\n",
    "print(\"Evaluation on Train dataset:\")\n",
    "evaluate_model(y_pred_train, y_train)\n",
    "print(\"Evaluation on Test dataset:\")\n",
    "evaluate_model(y_pred_test, y_test)\n",
    "\n",
    "#Saving the Model\n",
    "logitisticRegression = './model/logit_model.pkl'\n",
    "with open(logitisticRegression, 'wb') as file:\n",
    "    pickle.dump(best_model_logistic, file)"
   ]
  },
  {
   "cell_type": "code",
   "execution_count": 61,
   "metadata": {},
   "outputs": [
    {
     "name": "stdout",
     "output_type": "stream",
     "text": [
      "Fitting 5 folds for each of 24 candidates, totalling 120 fits\n",
      "Best parameters found for Random Forest: {'max_depth': None, 'min_samples_leaf': 1, 'min_samples_split': 2, 'n_estimators': 200}\n",
      "Random Forest Evaluation on Train Dataset\n",
      "              precision    recall  f1-score   support\n",
      "\n",
      "           0       1.00      1.00      1.00     74498\n",
      "           1       1.00      1.00      1.00     74498\n",
      "\n",
      "    accuracy                           1.00    148996\n",
      "   macro avg       1.00      1.00      1.00    148996\n",
      "weighted avg       1.00      1.00      1.00    148996\n",
      "\n",
      "Random Forest Evaluation on Test Dataset\n",
      "              precision    recall  f1-score   support\n",
      "\n",
      "           0       0.89      0.40      0.55      5332\n",
      "           1       0.91      0.99      0.95     31961\n",
      "\n",
      "    accuracy                           0.91     37293\n",
      "   macro avg       0.90      0.70      0.75     37293\n",
      "weighted avg       0.91      0.91      0.89     37293\n",
      "\n"
     ]
    }
   ],
   "source": [
    "# Random Forest\n",
    "param_grid_rf = {\n",
    "    'n_estimators': [100, 200],  \n",
    "    'max_depth': [None, 10, 20],  \n",
    "    'min_samples_split': [2, 5],  \n",
    "    'min_samples_leaf': [1, 2] \n",
    "}\n",
    "\n",
    "grid_search_rf = GridSearchCV(RandomForestClassifier(random_state=42), param_grid_rf, cv=5, verbose=2, n_jobs=-1)\n",
    "grid_search_rf.fit(X_train_transformed, y_train)\n",
    "best_rf_model = grid_search_rf.best_estimator_\n",
    "print(\"Best parameters found for Random Forest:\", grid_search_rf.best_params_)\n",
    "\n",
    "y_pred_train_rf = best_rf_model.predict(X_train_transformed)\n",
    "y_pred_test_rf = best_rf_model.predict(X_test_transformed)\n",
    "\n",
    "print(\"Random Forest Evaluation on Train Dataset\")\n",
    "evaluate_model(y_pred_train_rf, y_train)\n",
    "print(\"Random Forest Evaluation on Test Dataset\")\n",
    "evaluate_model(y_pred_test_rf, y_test)\n",
    "\n",
    "randomForest = './model/RandomForest.pkl'\n",
    "with open(randomForest, 'wb') as file:\n",
    "    pickle.dump(best_rf_model, file)\n"
   ]
  },
  {
   "cell_type": "code",
   "execution_count": 62,
   "metadata": {},
   "outputs": [
    {
     "name": "stdout",
     "output_type": "stream",
     "text": [
      "Fitting 5 folds for each of 6 candidates, totalling 30 fits\n",
      "Best parameters found: {'C': 10, 'kernel': 'rbf'}\n",
      "LinearSVM Evaluation on Train Dataset\n",
      "              precision    recall  f1-score   support\n",
      "\n",
      "           0       1.00      1.00      1.00     74498\n",
      "           1       1.00      1.00      1.00     74498\n",
      "\n",
      "    accuracy                           1.00    148996\n",
      "   macro avg       1.00      1.00      1.00    148996\n",
      "weighted avg       1.00      1.00      1.00    148996\n",
      "\n",
      "LinearSVM Evaluation on Test Dataset\n",
      "              precision    recall  f1-score   support\n",
      "\n",
      "           0       0.84      0.62      0.72      5332\n",
      "           1       0.94      0.98      0.96     31961\n",
      "\n",
      "    accuracy                           0.93     37293\n",
      "   macro avg       0.89      0.80      0.84     37293\n",
      "weighted avg       0.93      0.93      0.92     37293\n",
      "\n"
     ]
    }
   ],
   "source": [
    "# LinearSVM\n",
    "\n",
    "from sklearn.svm import SVC\n",
    "\n",
    "param_grid_svm = {\n",
    "    'C': [0.1, 1, 10],\n",
    "    'kernel': ['linear', 'rbf']\n",
    "}\n",
    "\n",
    "grid_search_svm = GridSearchCV(SVC(), param_grid_svm, cv=5, verbose=2, n_jobs=-1)\n",
    "grid_search_svm.fit(X_train_transformed, y_train)\n",
    "\n",
    "best_svm_model = grid_search_svm.best_estimator_\n",
    "print(\"Best parameters found:\", grid_search_svm.best_params_)\n",
    "\n",
    "y_pred_train_svm = best_svm_model.predict(X_train_transformed)\n",
    "y_pred_test_svm = best_svm_model.predict(X_test_transformed)\n",
    "\n",
    "print(\"LinearSVM Evaluation on Train Dataset\")\n",
    "evaluate_model(y_pred_train_svm, y_train)\n",
    "print(\"LinearSVM Evaluation on Test Dataset\")\n",
    "evaluate_model(y_pred_test_svm, y_test)\n",
    "\n",
    "linearSVM = './model/linearSVM.pkl'\n",
    "with open(linearSVM, 'wb') as file:\n",
    "    pickle.dump(best_svm_model, file)"
   ]
  },
  {
   "cell_type": "markdown",
   "metadata": {},
   "source": [
    "### Deep Learning Algorithms"
   ]
  },
  {
   "cell_type": "markdown",
   "metadata": {},
   "source": [
    "We need to tokenize and sequence the reviewText for us to use deep learning algorithms. Also, for deep learning Keras Tuner (Random Search) is used for hyperparameter tuning"
   ]
  },
  {
   "cell_type": "code",
   "execution_count": 64,
   "metadata": {},
   "outputs": [],
   "source": [
    "tokenizer = Tokenizer(oov_token='<UNK>')\n",
    "tokenizer.fit_on_texts(X_train)\n",
    "\n",
    "train_sequences = tokenizer.texts_to_sequences(X_train) \n",
    "test_sequences = tokenizer.texts_to_sequences(X_test)\n",
    "\n",
    "max_length = max(max(len(seq) for seq in train_sequences), max(len(seq) for seq in test_sequences))  \n",
    "train_padded = pad_sequences(train_sequences, maxlen=max_length, padding='post')  \n",
    "test_padded = pad_sequences(test_sequences, maxlen=max_length, padding='post') \n",
    "\n",
    "vocab_size = len(tokenizer.word_index) + 1  "
   ]
  },
  {
   "cell_type": "code",
   "execution_count": 65,
   "metadata": {},
   "outputs": [
    {
     "name": "stdout",
     "output_type": "stream",
     "text": [
      "Trial 5 Complete [00h 04m 32s]\n",
      "val_accuracy: 0.7737584114074707\n",
      "\n",
      "Best val_accuracy So Far: 0.9978523254394531\n",
      "Total elapsed time: 00h 24m 39s\n",
      "4657/4657 [==============================] - 13s 3ms/step\n",
      "1166/1166 [==============================] - 3s 3ms/step\n",
      "LSTM Evaluation on Train Dataset\n",
      "              precision    recall  f1-score   support\n",
      "\n",
      "           0       0.99      1.00      0.99     74498\n",
      "           1       1.00      0.99      0.99     74498\n",
      "\n",
      "    accuracy                           0.99    148996\n",
      "   macro avg       0.99      0.99      0.99    148996\n",
      "weighted avg       0.99      0.99      0.99    148996\n",
      "\n",
      "LSTM Evaluation on Test Dataset\n",
      "              precision    recall  f1-score   support\n",
      "\n",
      "           0       0.63      0.67      0.65      5332\n",
      "           1       0.94      0.93      0.94     31961\n",
      "\n",
      "    accuracy                           0.90     37293\n",
      "   macro avg       0.79      0.80      0.80     37293\n",
      "weighted avg       0.90      0.90      0.90     37293\n",
      "\n"
     ]
    },
    {
     "name": "stderr",
     "output_type": "stream",
     "text": [
      "WARNING:absl:Found untraced functions such as lstm_cell_layer_call_fn, lstm_cell_layer_call_and_return_conditional_losses while saving (showing 2 of 2). These functions will not be directly callable after loading.\n"
     ]
    },
    {
     "name": "stdout",
     "output_type": "stream",
     "text": [
      "INFO:tensorflow:Assets written to: best_lstm_model\\assets\n"
     ]
    },
    {
     "name": "stderr",
     "output_type": "stream",
     "text": [
      "INFO:tensorflow:Assets written to: best_lstm_model\\assets\n"
     ]
    }
   ],
   "source": [
    "def build_lstm_model(hp):\n",
    "    model = Sequential([\n",
    "        Embedding(input_dim=vocab_size,\n",
    "                  output_dim=hp.Int('embedding_output_dim', min_value=32, max_value=128, step=32),\n",
    "                  input_length=max_length),\n",
    "        LSTM(units=hp.Int('lstm_units', min_value=32, max_value=128, step=32), return_sequences=False),\n",
    "        Dense(1, activation='sigmoid')\n",
    "    ])\n",
    "    \n",
    "    model.compile(optimizer='adam',\n",
    "                  loss='binary_crossentropy',\n",
    "                  metrics=[BinaryAccuracy(name='accuracy')])\n",
    "    return model\n",
    "\n",
    "tuner = RandomSearch(\n",
    "    build_lstm_model,\n",
    "    objective='val_accuracy',\n",
    "    max_trials=5,\n",
    "    executions_per_trial=1,\n",
    "    directory='model',\n",
    "    project_name='lstm_tuning_project'\n",
    ")\n",
    "\n",
    "tuner.search_space_summary()\n",
    "\n",
    "early_stopping = EarlyStopping(monitor='val_loss', patience=3, verbose=1, mode='min', restore_best_weights=True)\n",
    "\n",
    "tuner.search(train_padded, y_train,\n",
    "             epochs=10,\n",
    "             validation_split=0.1,\n",
    "             callbacks=[early_stopping],\n",
    "             verbose=1)\n",
    "\n",
    "best_model_LSTM = tuner.get_best_models(num_models=1)[0]\n",
    "\n",
    "def evaluate_model_custom(model, X_train_padded, y_train, X_test_padded, y_test):\n",
    "    # Making predictions (converting probabilities to 0 or 1)\n",
    "    y_pred_train = (model.predict(X_train_padded) > 0.5).astype(\"int32\")\n",
    "    y_pred_test = (model.predict(X_test_padded) > 0.5).astype(\"int32\")\n",
    "    print(\"LSTM Evaluation on Train Dataset\")\n",
    "    print(classification_report(y_train, y_pred_train))\n",
    "    # Evaluation on Testing Data\n",
    "    print(\"LSTM Evaluation on Test Dataset\")\n",
    "    print(classification_report(y_test, y_pred_test))\n",
    "   \n",
    "# Calling the adjusted evaluation function\n",
    "evaluate_model_custom(best_model_LSTM, train_padded, y_train, test_padded, y_test)\n",
    "best_model_LSTM.save('best_lstm_model')\n"
   ]
  },
  {
   "cell_type": "code",
   "execution_count": 66,
   "metadata": {},
   "outputs": [
    {
     "name": "stdout",
     "output_type": "stream",
     "text": [
      "Trial 5 Complete [00h 00m 32s]\n",
      "val_accuracy: 1.0\n",
      "\n",
      "Best val_accuracy So Far: 1.0\n",
      "Total elapsed time: 00h 02m 28s\n",
      "4657/4657 [==============================] - 3s 737us/step\n",
      "1166/1166 [==============================] - 1s 860us/step\n",
      "CNN Evaluation on Train Dataset\n",
      "              precision    recall  f1-score   support\n",
      "\n",
      "           0       1.00      1.00      1.00     74498\n",
      "           1       1.00      1.00      1.00     74498\n",
      "\n",
      "    accuracy                           1.00    148996\n",
      "   macro avg       1.00      1.00      1.00    148996\n",
      "weighted avg       1.00      1.00      1.00    148996\n",
      "\n",
      "CNN Evaluation on Test Dataset\n",
      "              precision    recall  f1-score   support\n",
      "\n",
      "           0       0.76      0.62      0.68      5332\n",
      "           1       0.94      0.97      0.95     31961\n",
      "\n",
      "    accuracy                           0.92     37293\n",
      "   macro avg       0.85      0.79      0.82     37293\n",
      "weighted avg       0.91      0.92      0.91     37293\n",
      "\n"
     ]
    },
    {
     "name": "stderr",
     "output_type": "stream",
     "text": [
      "WARNING:absl:Found untraced functions such as _jit_compiled_convolution_op while saving (showing 1 of 1). These functions will not be directly callable after loading.\n"
     ]
    },
    {
     "name": "stdout",
     "output_type": "stream",
     "text": [
      "INFO:tensorflow:Assets written to: best_cnn_model\\assets\n"
     ]
    },
    {
     "name": "stderr",
     "output_type": "stream",
     "text": [
      "INFO:tensorflow:Assets written to: best_cnn_model\\assets\n"
     ]
    }
   ],
   "source": [
    "def build_cnn_model(hp):\n",
    "    model = Sequential()\n",
    "    model.add(Embedding(input_dim=vocab_size,\n",
    "                        output_dim=hp.Int('embedding_output_dim', min_value=32, max_value=128, step=32),\n",
    "                        input_length=max_length))\n",
    "    model.add(Conv1D(filters=hp.Int('filters', min_value=32, max_value=128, step=32),\n",
    "                     kernel_size=hp.Choice('kernel_size', values=[3, 5, 7]),\n",
    "                     activation='relu'))\n",
    "    model.add(GlobalMaxPooling1D())\n",
    "    model.add(Dense(units=hp.Int('dense_units', min_value=10, max_value=100, step=10), activation='relu'))\n",
    "    model.add(Dense(1, activation='sigmoid'))\n",
    "    \n",
    "    model.compile(optimizer='adam',\n",
    "                  loss='binary_crossentropy',\n",
    "                  metrics=['accuracy'])\n",
    "    return model\n",
    "\n",
    "tuner = kt.RandomSearch(\n",
    "    build_cnn_model,\n",
    "    objective='val_accuracy',\n",
    "    max_trials=5,  # Adjust based on your time/resource budget\n",
    "    executions_per_trial=1,\n",
    "    directory='model',  # Directory to store the search results\n",
    "    project_name='cnn_tuning'\n",
    ")\n",
    "\n",
    "# Early stopping callback\n",
    "early_stopping_cb = EarlyStopping(monitor='val_loss', patience=3, restore_best_weights=True)\n",
    "\n",
    "# Start the search\n",
    "tuner.search(train_padded, y_train,\n",
    "             epochs=10,\n",
    "             validation_split=0.1,\n",
    "             callbacks=[early_stopping_cb],\n",
    "             verbose=1,\n",
    "             batch_size=256)\n",
    "\n",
    "best_model_CNN = tuner.get_best_models(num_models=1)[0]\n",
    "\n",
    "def evaluate_model_custom(model, X_train_padded, y_train, X_test_padded, y_test):\n",
    "    # Making predictions (converting probabilities to 0 or 1)\n",
    "    y_pred_train = (model.predict(X_train_padded) > 0.5).astype(\"int32\")\n",
    "    y_pred_test = (model.predict(X_test_padded) > 0.5).astype(\"int32\")\n",
    "    print(\"CNN Evaluation on Train Dataset\")\n",
    "    print(classification_report(y_train, y_pred_train))\n",
    "    print(\"CNN Evaluation on Test Dataset\")\n",
    "    print(classification_report(y_test, y_pred_test))\n",
    "\n",
    "# Use your custom evaluation function\n",
    "evaluate_model_custom(best_model_CNN, train_padded, y_train, test_padded, y_test)\n",
    "best_model_CNN.save('best_cnn_model')"
   ]
  },
  {
   "cell_type": "markdown",
   "metadata": {},
   "source": [
    "Looking through the models on which is the best"
   ]
  },
  {
   "cell_type": "code",
   "execution_count": 67,
   "metadata": {},
   "outputs": [
    {
     "name": "stdout",
     "output_type": "stream",
     "text": [
      "1166/1166 [==============================] - 1s 1ms/step\n",
      "1166/1166 [==============================] - 3s 3ms/step\n"
     ]
    },
    {
     "data": {
      "image/png": "[encoded data removed]",
      "text/plain": [
       "<Figure size 2400x1000 with 1 Axes>"
      ]
     },
     "metadata": {},
     "output_type": "display_data"
    }
   ],
   "source": [
    "model_paths = {\n",
    "    'logisticRegression': './model/logit_model.pkl',\n",
    "    'linearSVM': './model/linearSVM.pkl',\n",
    "    'RandomForest': './model/RandomForest.pkl',\n",
    "    'CNN': './best_cnn_model', \n",
    "    'LSTM': './best_lstm_model',\n",
    "}\n",
    "\n",
    "model_metrics = {}\n",
    "\n",
    "for model_name, model_path in model_paths.items():\n",
    "    try:\n",
    "        if model_name in [ 'linearSVM', 'logisticRegression', 'RandomForest']:\n",
    "            with open(model_path, 'rb') as file:\n",
    "                model = pickle.load(file)\n",
    "            y_pred = model.predict(X_test_transformed)\n",
    "            if hasattr(model, 'predict_proba'):\n",
    "                y_scores = model.predict_proba(X_test_transformed)[:,1]\n",
    "            elif hasattr(model, 'decision_function'):\n",
    "                y_scores = model.decision_function(X_test_transformed)\n",
    "            else:\n",
    "                print(f\"{model_name} does not support predict_proba or decision_function.\")\n",
    "                continue  \n",
    "        elif model_name in ['CNN', 'LSTM']:\n",
    "            model = load_model(model_path)\n",
    "            y_scores = model.predict(test_padded).flatten()\n",
    "            y_pred = (y_scores > 0.5).astype('int32').flatten()\n",
    "\n",
    "        # Metrics calculation\n",
    "        accuracy = accuracy_score(y_test, y_pred)\n",
    "        precision = precision_score(y_test, y_pred, average='weighted')\n",
    "        recall = recall_score(y_test, y_pred, average='weighted')\n",
    "        f1 = f1_score(y_test, y_pred, average='weighted')\n",
    "        auc = roc_auc_score(y_test, y_scores) if 'y_scores' in locals() else 'N/A'\n",
    "\n",
    "        model_metrics[model_name] = {\n",
    "            'Accuracy': accuracy,\n",
    "            'Precision': precision,\n",
    "            'Recall': recall,\n",
    "            'F1 Score': f1,\n",
    "            'AUC': auc\n",
    "        }\n",
    "    except Exception as e:\n",
    "        print(f\"Error processing {model_name}: {e}\")\n",
    "\n",
    "labels = list(model_metrics.keys())\n",
    "accuracy_scores = [metrics['Accuracy'] for metrics in model_metrics.values()]\n",
    "precision_scores = [metrics['Precision'] for metrics in model_metrics.values()]\n",
    "recall_scores = [metrics['Recall'] for metrics in model_metrics.values()]\n",
    "f1_scores = [metrics['F1 Score'] for metrics in model_metrics.values()]\n",
    "auc_scores = [metrics['AUC'] for metrics in model_metrics.values()]\n",
    "\n",
    "x = np.arange(len(labels))\n",
    "width = 0.15 \n",
    "\n",
    "fig, ax = plt.subplots(figsize=(24, 10))\n",
    "rects1 = ax.bar(x - width*1.5, accuracy_scores, width, label='Accuracy')\n",
    "rects2 = ax.bar(x - width/2, precision_scores, width, label='Precision')\n",
    "rects3 = ax.bar(x + width/2, recall_scores, width, label='Recall')\n",
    "rects4 = ax.bar(x + width*1.5, f1_scores, width, label='F1 Score')\n",
    "rects5 = ax.bar(x + width*2.5, auc_scores, width, label='AUC')\n",
    "\n",
    "ax.set_ylabel('Scores')\n",
    "ax.set_ylim(0, 1)\n",
    "ax.set_title('Scores by model and metric')\n",
    "ax.set_xticks(x)\n",
    "ax.set_xticklabels(labels)\n",
    "ax.legend(loc='upper right', fancybox=True, framealpha=0.5)\n",
    "\n",
    "def autolabel(rects):\n",
    "    for rect in rects:\n",
    "        height = rect.get_height()\n",
    "        ax.annotate('{}'.format(round(height, 2)),\n",
    "                    xy=(rect.get_x() + rect.get_width() / 2, height),\n",
    "                    xytext=(0, 3),  # 3 points vertical offset\n",
    "                    textcoords=\"offset points\",\n",
    "                    ha='center', va='bottom')\n",
    "\n",
    "autolabel(rects1)\n",
    "autolabel(rects2)\n",
    "autolabel(rects3)\n",
    "autolabel(rects4)\n",
    "autolabel(rects5)\n",
    "\n",
    "fig.tight_layout()\n",
    "\n",
    "plt.show()"
   ]
  },
  {
   "cell_type": "code",
   "execution_count": 68,
   "metadata": {},
   "outputs": [
    {
     "name": "stdout",
     "output_type": "stream",
     "text": [
      "The best model for Accuracy is linearSVM with a score of 0.9293\n",
      "The best model for Precision is linearSVM with a score of 0.9257\n",
      "The best model for Recall is linearSVM with a score of 0.9293\n",
      "The best model for F1 Score is linearSVM with a score of 0.9248\n",
      "The best model for AUC is linearSVM with a score of 0.9531\n",
      "The most consistently good model across metrics is: linearSVM\n"
     ]
    }
   ],
   "source": [
    "# Let's assume you have a dictionary of model_metrics as before\n",
    "best_models_by_metric = {}\n",
    "\n",
    "# Loop over each metric to find which model performs best for that metric\n",
    "for metric in ['Accuracy', 'Precision', 'Recall', 'F1 Score', 'AUC']:\n",
    "    best_score = 0\n",
    "    best_model = None\n",
    "    for model, metrics in model_metrics.items():\n",
    "        if metrics[metric] > best_score:\n",
    "            best_score = metrics[metric]\n",
    "            best_model = model\n",
    "    best_models_by_metric[metric] = (best_model, best_score)\n",
    "\n",
    "# Now best_models_by_metric contains the best model for each metric\n",
    "for metric, (model, score) in best_models_by_metric.items():\n",
    "    print(f\"The best model for {metric} is {model} with a score of {score:.4f}\")\n",
    "\n",
    "# If you want to pick a model that is consistently good across multiple metrics:\n",
    "from collections import Counter\n",
    "most_common_model = Counter([best[0] for best in best_models_by_metric.values()]).most_common(1)\n",
    "print(f\"The most consistently good model across metrics is: {most_common_model[0][0]}\")\n"
   ]
  },
  {
   "cell_type": "markdown",
   "metadata": {},
   "source": [
    "### Training Recommender System"
   ]
  },
  {
   "cell_type": "code",
   "execution_count": 12,
   "metadata": {},
   "outputs": [],
   "source": [
    "from surprise import Dataset, Reader, SVD, accuracy\n",
    "from surprise.model_selection import train_test_split"
   ]
  },
  {
   "cell_type": "code",
   "execution_count": 13,
   "metadata": {},
   "outputs": [],
   "source": [
    "reader = Reader(rating_scale=(1, 5))\n",
    "data = Dataset.load_from_df(df[['reviewerID', 'asin', 'overall']], reader)"
   ]
  },
  {
   "cell_type": "code",
   "execution_count": 25,
   "metadata": {},
   "outputs": [],
   "source": [
    "trainset, testset = train_test_split(data, test_size=0.30, random_state=42)"
   ]
  },
  {
   "cell_type": "markdown",
   "metadata": {},
   "source": [
    "## Model Creation"
   ]
  },
  {
   "cell_type": "code",
   "execution_count": 26,
   "metadata": {},
   "outputs": [
    {
     "name": "stdout",
     "output_type": "stream",
     "text": [
      "RMSE: 1.1983\n",
      "MAE:  0.8682\n",
      "RMSE (No Sentiment Analysis): 1.1983294200007595, MAE (No Sentiment Analysis): 0.8681832538054232\n"
     ]
    }
   ],
   "source": [
    "algo = SVD()\n",
    "\n",
    "algo.fit(trainset)\n",
    "predictions = algo.test(testset)\n",
    "\n",
    "rmse_no_sentiment = accuracy.rmse(predictions)\n",
    "mae_no_sentiment = accuracy.mae(predictions)\n",
    "print(f\"RMSE (No Sentiment Analysis): {rmse_no_sentiment}, MAE (No Sentiment Analysis): {mae_no_sentiment}\")"
   ]
  },
  {
   "cell_type": "code",
   "execution_count": 17,
   "metadata": {},
   "outputs": [],
   "source": [
    "with open('./model/linearSVM.pkl', 'rb') as file:\n",
    "    linearSVM_model = pickle.load(file)"
   ]
  },
  {
   "cell_type": "code",
   "execution_count": 18,
   "metadata": {},
   "outputs": [],
   "source": [
    "reviewText_transformed = word_vectorizer.transform(df['reviewText'])"
   ]
  },
  {
   "cell_type": "code",
   "execution_count": 19,
   "metadata": {},
   "outputs": [],
   "source": [
    "sentiment_scores = linearSVM_model.decision_function(reviewText_transformed)"
   ]
  },
  {
   "cell_type": "code",
   "execution_count": null,
   "metadata": {},
   "outputs": [],
   "source": [
    "df['linearSVM_sentiment_score'] = sentiment_scores\n",
    "\n",
    "# Use sentiment scores for recommendation\n",
    "data_sentiment = Dataset.load_from_df(df[['reviewerID', 'asin', 'linearSVM_sentiment_score']], reader)"
   ]
  },
  {
   "cell_type": "code",
   "execution_count": 24,
   "metadata": {},
   "outputs": [
    {
     "name": "stdout",
     "output_type": "stream",
     "text": [
      "RMSE: 0.4345\n",
      "MAE:  0.4177\n",
      "RMSE (With Linear SVM Sentiment Analysis): 0.4345399181502344, MAE (With Sentiment Analysis): 0.4177156261895085\n"
     ]
    }
   ],
   "source": [
    "# Predict decision scores using the Linear SVM model\n",
    "\n",
    "# Normalize decision scores to obtain sentiment scores\n",
    "sentiment_scores_svm = (sentiment_scores - sentiment_scores.min()) / (sentiment_scores.max() - sentiment_scores.min())\n",
    "\n",
    "# Add sentiment scores to the DataFrame\n",
    "df['linearSVM_sentiment_score'] = sentiment_scores_svm\n",
    "\n",
    "# Use sentiment scores for recommendation\n",
    "data_sentiment_svm = Dataset.load_from_df(df[['reviewerID', 'asin', 'linearSVM_sentiment_score']], reader)\n",
    "\n",
    "# Split data into training and test set\n",
    "trainset_sentiment_svm, testset_sentiment_svm = train_test_split(data_sentiment_svm, test_size=0.30, random_state=42)\n",
    "\n",
    "# Train the SVD algorithm\n",
    "algo_sentiment_svm = SVD()\n",
    "algo_sentiment_svm.fit(trainset_sentiment_svm)\n",
    "\n",
    "# Make predictions on the test set\n",
    "predictions_sentiment_svm = algo_sentiment_svm.test(testset_sentiment_svm)\n",
    "\n",
    "# Calculate and output RMSE and MAE for Linear SVM Sentiment Analysis\n",
    "rmse_with_sentiment_svm = accuracy.rmse(predictions_sentiment_svm)\n",
    "mae_with_sentiment_svm = accuracy.mae(predictions_sentiment_svm)\n",
    "print(f\"RMSE (With Linear SVM Sentiment Analysis): {rmse_with_sentiment_svm}, MAE (With Sentiment Analysis): {mae_with_sentiment_svm}\")\n"
   ]
  },
  {
   "cell_type": "code",
   "execution_count": 21,
   "metadata": {},
   "outputs": [
    {
     "name": "stdout",
     "output_type": "stream",
     "text": [
      "RMSE: 1.1302\n",
      "MAE:  0.7831\n",
      "RMSE (Combined): 1.1301659793420662, MAE (Combined): 0.7831372900708984\n"
     ]
    }
   ],
   "source": [
    "#Not sure about this need to check \n",
    "df['adjusted_rating'] = df['overall'] + (df['linearSVM_sentiment_score'] * 0.5)  # Example adjustment\n",
    "df['adjusted_rating'] = df['adjusted_rating'].clip(lower=1, upper=5)  # Ensure within rating scale\n",
    "\n",
    "data_combined = Dataset.load_from_df(df[['reviewerID', 'asin', 'adjusted_rating']], reader)\n",
    "\n",
    "# Split data into training and test set\n",
    "trainset_combined, testset_combined = train_test_split(data_combined, test_size=0.30)\n",
    "\n",
    "# Train the SVD algorithm\n",
    "algo_combined = SVD()\n",
    "algo_combined.fit(trainset_combined)\n",
    "\n",
    "# Make predictions on the test set\n",
    "predictions_combined = algo_combined.test(testset_combined)\n",
    "\n",
    "# Calculate and output RMSE and MAE for the combined approach\n",
    "rmse_combined = accuracy.rmse(predictions_combined)\n",
    "mae_combined = accuracy.mae(predictions_combined)\n",
    "print(f\"RMSE (Combined): {rmse_combined}, MAE (Combined): {mae_combined}\")\n"
   ]
  },
  {
   "cell_type": "code",
   "execution_count": 22,
   "metadata": {},
   "outputs": [
    {
     "name": "stdout",
     "output_type": "stream",
     "text": [
      "Top 5 recommendations for A30TL5EWN6DFXT:\n",
      "Item: B00HQY35SM, Estimated Rating: 4.739593336818527\n",
      "Item: B00B45TMTK, Estimated Rating: 4.728478511042552\n",
      "Item: B0055V0X7O, Estimated Rating: 4.727217164681616\n",
      "Item: B009ZC90P0, Estimated Rating: 4.7099841424576026\n",
      "Item: B006IX7XQC, Estimated Rating: 4.693144737619522\n"
     ]
    }
   ],
   "source": [
    "def get_top_n_recommendations(predictions, n=10):\n",
    "    top_n = {}\n",
    "    for uid, iid, _, est, _ in predictions:\n",
    "        if uid not in top_n:\n",
    "            top_n[uid] = [(iid, est)]\n",
    "        else:\n",
    "            top_n[uid].append((iid, est))\n",
    "\n",
    "    for uid, user_ratings in top_n.items():\n",
    "        user_ratings.sort(key=lambda x: x[1], reverse=True)\n",
    "        top_n[uid] = user_ratings[:n]\n",
    "\n",
    "    return top_n\n",
    "\n",
    "import random\n",
    "\n",
    "def get_sampled_anti_testset(trainset, user, item_sample=10000):\n",
    "    # Get a list of all items and users in the trainset\n",
    "    trainset_items = set(trainset.ir.keys())\n",
    "    trainset_users = set(trainset.ur.keys())\n",
    "    \n",
    "    # Check if the user is in the trainset\n",
    "    if trainset.to_inner_uid(user) in trainset_users:\n",
    "        # Items the user has already rated\n",
    "        user_items = set([j for (j, _) in trainset.ur[trainset.to_inner_uid(user)]])\n",
    "        # Sample items the user hasn't rated\n",
    "        sample = random.sample(trainset_items - user_items, item_sample)\n",
    "        # Create the anti_testset for the user\n",
    "        anti_testset = [[user, trainset.to_raw_iid(item), trainset.global_mean] for item in sample]\n",
    "        return anti_testset\n",
    "    else:\n",
    "        print(f\"User {user} not found in the training set.\")\n",
    "        return []\n",
    "\n",
    "# Generate a sampled anti_testset for a specific user\n",
    "user_id = 'A30TL5EWN6DFXT'\n",
    "sampled_anti_testset = get_sampled_anti_testset(trainset_combined, user_id, item_sample=100)\n",
    "\n",
    "# If the sampled anti_testset is not empty, generate predictions\n",
    "if sampled_anti_testset:\n",
    "    predictions = algo_combined.test(sampled_anti_testset)\n",
    "    top_n_recommendations = get_top_n_recommendations(predictions, n=5)\n",
    "    \n",
    "    print(f\"Top 5 recommendations for {user_id}:\")\n",
    "    for itemID, estimatedRating in top_n_recommendations[user_id]:\n",
    "        print(f\"Item: {itemID}, Estimated Rating: {estimatedRating}\")\n"
   ]
  },
  {
   "cell_type": "code",
   "execution_count": 23,
   "metadata": {},
   "outputs": [
    {
     "name": "stdout",
     "output_type": "stream",
     "text": [
      "Top recommended items for user A30TL5EWN6DFXT: [('B004RDH8OM', 1), ('B008I6X802', 1), ('B003X6LPRK', 1)]\n"
     ]
    }
   ],
   "source": [
    "from collections import defaultdict\n",
    "\n",
    "def get_top_n_recommendations(predictions, n=10):\n",
    "    # First map the predictions to each user.\n",
    "    top_n = defaultdict(list)\n",
    "    for uid, iid, true_r, est, _ in predictions:\n",
    "        top_n[uid].append((iid, est))\n",
    "\n",
    "    # Then sort the predictions for each user and retrieve the N highest ones.\n",
    "    for uid, user_ratings in top_n.items():\n",
    "        user_ratings.sort(key=lambda x: x[1], reverse=True)\n",
    "        top_n[uid] = user_ratings[:n]\n",
    "\n",
    "    return top_n\n",
    "\n",
    "# Assuming 'predictions_sentiment' is your list of predictions\n",
    "top_n_recommendations = get_top_n_recommendations(predictions_sentiment_svm, n=5)\n",
    "\n",
    "# Example: Print the recommended items for a given user\n",
    "user_id = 'A30TL5EWN6DFXT'\n",
    "recommended_items = top_n_recommendations.get(user_id, [])\n",
    "print(f\"Top recommended items for user {user_id}: {recommended_items}\")\n"
   ]
  }
 ],
 "metadata": {
  "kernelspec": {
   "display_name": "Naydel-Dissertation",
   "language": "python",
   "name": "python3"
  },
  "language_info": {
   "codemirror_mode": {
    "name": "ipython",
    "version": 3
   },
   "file_extension": ".py",
   "mimetype": "text/x-python",
   "name": "python",
   "nbconvert_exporter": "python",
   "pygments_lexer": "ipython3",
   "version": "3.8.18"
  }
 },
 "nbformat": 4,
 "nbformat_minor": 2
}
